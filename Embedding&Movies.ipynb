{
 "cells": [
  {
   "cell_type": "code",
   "execution_count": 50,
   "id": "a53ce9b7",
   "metadata": {},
   "outputs": [],
   "source": [
    "import openai\n",
    "from dotenv import dotenv_values\n",
    "config = dotenv_values(\".env\")\n",
    "openai.api_key = config[\"AIKEY\"]"
   ]
  },
  {
   "cell_type": "code",
   "execution_count": 51,
   "id": "5d99bee5",
   "metadata": {},
   "outputs": [],
   "source": [
    "import pandas as pd\n",
    "import numpy as np\n",
    "from tenacity import retry, wait_random_exponential, stop_after_attempt\n",
    "import tiktoken\n",
    "import pickle"
   ]
  },
  {
   "cell_type": "code",
   "execution_count": 52,
   "id": "e6572cd6",
   "metadata": {},
   "outputs": [],
   "source": [
    "dataset_path = \"./plots.csv\""
   ]
  },
  {
   "cell_type": "code",
   "execution_count": 53,
   "id": "2b7c32c9",
   "metadata": {},
   "outputs": [],
   "source": [
    "df = pd.read_csv(dataset_path)\n",
    "movies = df[df[\"Origin/Ethnicity\"] == \"American\"].sort_values(\"Release Year\",ascending=False).head(1000)"
   ]
  },
  {
   "cell_type": "code",
   "execution_count": 54,
   "id": "30b1cc56",
   "metadata": {},
   "outputs": [],
   "source": [
    "movie_plots = movies[\"Plot\"].values"
   ]
  },
  {
   "cell_type": "code",
   "execution_count": 55,
   "id": "29981ece",
   "metadata": {},
   "outputs": [],
   "source": [
    "enc = tiktoken.encoding_for_model(\"text-embedding-ada-002\")\n",
    "totalTokens = sum([len(enc.encode(plot)) for plot in movie_plots])"
   ]
  },
  {
   "cell_type": "code",
   "execution_count": 56,
   "id": "066879dd",
   "metadata": {},
   "outputs": [
    {
     "name": "stdout",
     "output_type": "stream",
     "text": [
      "Estimated cost $0.30\n"
     ]
    }
   ],
   "source": [
    "totalTokens\n",
    "cost = (0.0004/1000)*totalTokens\n",
    "print(f\"Estimated cost ${cost:.2f}\")"
   ]
  },
  {
   "cell_type": "code",
   "execution_count": 57,
   "id": "933d6fb8",
   "metadata": {},
   "outputs": [],
   "source": [
    "@retry(wait=wait_random_exponential(min=1, max=20),stop=stop_after_attempt(6))\n",
    "def get_embedding(text,model=\"text-embedding-ada-002\"):\n",
    "    text = text.replace(\"\\n\",\" \")\n",
    "    return openai.Embedding.create(input=text,model=model)[\"data\"][0][\"embedding\"]"
   ]
  },
  {
   "cell_type": "code",
   "execution_count": 58,
   "id": "24ad3900",
   "metadata": {},
   "outputs": [],
   "source": [
    "embedding_cache_path = \"movie_embeddings.pkl\"\n",
    "\n",
    "#load cache if it exists and save a copy to disk\n",
    "try:\n",
    "    embedding_cache = pd.read_pickle(embedding_cache_path)\n",
    "except:\n",
    "    embedding_cache = {}\n",
    "with open(embedding_cache_path,\"wb\") as embedding_cache_file:\n",
    "    pickle.dump(embedding_cache,embedding_cache_file)\n",
    "    \n",
    "#retrieve cache if present from a file or request via API\n",
    "def embedding_from_string(\n",
    "    string,\n",
    "    model=\"text-embedding-ada-002\",\n",
    "    embedding_cache=embedding_cache\n",
    "):\n",
    "    if(string,model) not in embedding_cache.keys():\n",
    "        embedding_cache[(string,model)] = get_embedding(string,model)\n",
    "        print(f\"Got embedding from API for {string[:20]}\")\n",
    "        with open(embedding_cache_path,\"wb\")as embedding_cache_file:\n",
    "            pickle.dump(embedding_cache,embedding_cache_file)\n",
    "    return embedding_cache[(string,model)]"
   ]
  },
  {
   "cell_type": "code",
   "execution_count": 59,
   "id": "720f3990",
   "metadata": {},
   "outputs": [],
   "source": [
    "plot_embeddings = [embedding_from_string(plot,model=\"text-embedding-ada-002\") for plot in movie_plots]"
   ]
  },
  {
   "cell_type": "code",
   "execution_count": 60,
   "id": "39304614",
   "metadata": {},
   "outputs": [],
   "source": [
    "from nomic import atlas"
   ]
  },
  {
   "cell_type": "code",
   "execution_count": 64,
   "id": "aadeea21",
   "metadata": {},
   "outputs": [],
   "source": [
    "data = movies[[\"Title\",\"Genre\"]].to_dict(\"records\")"
   ]
  },
  {
   "cell_type": "code",
   "execution_count": 65,
   "id": "b5ad98db",
   "metadata": {},
   "outputs": [
    {
     "name": "stderr",
     "output_type": "stream",
     "text": [
      "\u001b[32m2023-10-04 12:07:25.282\u001b[0m | \u001b[33m\u001b[1mWARNING \u001b[0m | \u001b[36mnomic.atlas\u001b[0m:\u001b[36mmap_embeddings\u001b[0m:\u001b[36m94\u001b[0m - \u001b[33m\u001b[1mAn ID field was not specified in your data so one was generated for you in insertion order.\u001b[0m\n",
      "\u001b[32m2023-10-04 12:07:28.421\u001b[0m | \u001b[1mINFO    \u001b[0m | \u001b[36mnomic.project\u001b[0m:\u001b[36m_create_project\u001b[0m:\u001b[36m790\u001b[0m - \u001b[1mCreating project `tacit-brilliant` in organization `ognjenstancevic`\u001b[0m\n",
      "\u001b[32m2023-10-04 12:07:29.677\u001b[0m | \u001b[1mINFO    \u001b[0m | \u001b[36mnomic.atlas\u001b[0m:\u001b[36mmap_embeddings\u001b[0m:\u001b[36m110\u001b[0m - \u001b[1mUploading embeddings to Atlas.\u001b[0m\n",
      "1it [00:02,  2.53s/it]\n",
      "\u001b[32m2023-10-04 12:07:32.233\u001b[0m | \u001b[1mINFO    \u001b[0m | \u001b[36mnomic.project\u001b[0m:\u001b[36m_add_data\u001b[0m:\u001b[36m1422\u001b[0m - \u001b[1mUpload succeeded.\u001b[0m\n",
      "\u001b[32m2023-10-04 12:07:32.234\u001b[0m | \u001b[1mINFO    \u001b[0m | \u001b[36mnomic.atlas\u001b[0m:\u001b[36mmap_embeddings\u001b[0m:\u001b[36m129\u001b[0m - \u001b[1mEmbedding upload succeeded.\u001b[0m\n",
      "\u001b[32m2023-10-04 12:07:34.106\u001b[0m | \u001b[1mINFO    \u001b[0m | \u001b[36mnomic.project\u001b[0m:\u001b[36mcreate_index\u001b[0m:\u001b[36m1132\u001b[0m - \u001b[1mCreated map `tacit-brilliant` in project `tacit-brilliant`: https://atlas.nomic.ai/map/723161ba-3750-49e8-af78-2a351887bf10/1c9f742a-2133-4a2a-a26c-1c2b15738e0d\u001b[0m\n",
      "\u001b[32m2023-10-04 12:07:34.108\u001b[0m | \u001b[1mINFO    \u001b[0m | \u001b[36mnomic.atlas\u001b[0m:\u001b[36mmap_embeddings\u001b[0m:\u001b[36m142\u001b[0m - \u001b[1mtacit-brilliant: https://atlas.nomic.ai/map/723161ba-3750-49e8-af78-2a351887bf10/1c9f742a-2133-4a2a-a26c-1c2b15738e0d\u001b[0m\n"
     ]
    }
   ],
   "source": [
    "project = atlas.map_embeddings(\n",
    "    embeddings=np.array(plot_embeddings),\n",
    "    data=data\n",
    ")"
   ]
  },
  {
   "cell_type": "code",
   "execution_count": 77,
   "id": "50ca0ed9",
   "metadata": {},
   "outputs": [],
   "source": [
    "from openai.embeddings_utils import distances_from_embeddings, indices_of_nearest_neighbors_from_distances\n",
    "def recommendations(\n",
    "    strings,\n",
    "    index_of_str,\n",
    "    k_nearest_neighbors=3,\n",
    "    model=\"text-embedding-ada-002\"\n",
    "):\n",
    "    #Get embeddings\n",
    "    embeddings = [embedding_from_string(string) for string in strings]\n",
    "    #Get embedding for query\n",
    "    query_embedding = embeddings[index_of_str]\n",
    "    #get distances between our and other embeddings\n",
    "    distances = distances_from_embeddings(query_embedding,embeddings)\n",
    "    #get indices\n",
    "    indicies = indices_of_nearest_neighbors_from_distances(distances)\n",
    "    \n",
    "    query = strings[index_of_str]\n",
    "    matches = 0\n",
    "    for i in indicies:\n",
    "        if query == strings[i]:\n",
    "            continue\n",
    "        if matches >= k_nearest_neighbors:\n",
    "            break\n",
    "        matches += 1\n",
    "        print(f\"Found {matches} closest match: \")\n",
    "        print(f\"Distance of : {distances[i]}\")\n",
    "        print(strings[i])\n",
    "        \n",
    "    "
   ]
  },
  {
   "cell_type": "code",
   "execution_count": 78,
   "id": "46fdb0ed",
   "metadata": {},
   "outputs": [
    {
     "name": "stdout",
     "output_type": "stream",
     "text": [
      "Found 1 closest match: \n",
      "Distance of : 0.13664061546949713\n",
      "In the near future, the unmanned Pilgrim 7 space probe returns from Mars to Earth orbit with soil samples potentially containing evidence of extraterrestrial life. The probe is captured and its samples retrieved by the International Space Station and its six-member crew. Exobiologist Hugh Derry, who is paralyzed from the waist down, revives a dormant cell from the sample, which quickly grows into a multi-celled organism that American school children name \"Calvin\". Hugh realizes that Calvin's cells can change their specialisation, acting as muscle, sensor, and neuron cells all at once.\r\n",
      "An accident in the lab causes Calvin to become dormant; Hugh attempts to revive Calvin with electric shocks, but Calvin immediately becomes hostile and attacks Hugh, crushing his hand. While Hugh lies unconscious from Calvin's attack, Calvin uses Hugh's electric shock tool to escape its enclosure; now free in the laboratory, Calvin devours a lab rat by absorbing it, growing in size. Engineer Rory Adams enters the lab to rescue Hugh; he is locked in by fellow crew member and physician David Jordan, however, to keep Calvin contained. Calvin latches onto Rory's leg; after Rory unsuccessfully attacks Calvin with a portable rocket thruster, Calvin enters his mouth, devouring his organs from the inside and killing him. Emerging from Rory's mouth even larger, Calvin escapes through a fire-control vent.\r\n",
      "Finding their communication with Earth cut off due to overheating of the communication systems, ISS commander Ekaterina Golovkina performs a space walk to find and fix the problem. She discovers that Calvin has breached the ISS's cooling system; soon after, Calvin attacks her, rupturing her spacesuit's water coolant system in the process and causing the water in the system to fill her suit. She blindly makes her way back to the airlock; however, she and the crew realize that if she re-enters, Calvin will also be able to re-enter the ISS. Hence, she refuses to open the hatch and stops David from helping her do so; this keeps Calvin out of the station for the time being but also causes her to drown and die in her spacesuit.\r\n",
      "Calvin then attempts to re-enter the station through its maneuvering thrusters. The crew try to fire the thrusters to blast Calvin away from the spacecraft, but their attempts fail, using up too much fuel and causing the ISS to enter a decaying orbit where it will burn up in Earth's atmosphere. Pilot Sho Murakami informs the crew that they need to use the station's remaining fuel to get back into a safe orbit, although this allows Calvin to re-enter the station. The crew plan to make Calvin dormant by sealing themselves into one module and venting the atmosphere from the rest of the station.\r\n",
      "After the remaining crew finalize preparations to do so, Hugh enters cardiac arrest. The crew then discover that Calvin has been feeding off of Hugh's paralyzed leg. Calvin attacks the remainder of the crew; Sho seals himself in a sleeping pod. As Calvin attempts to break its glass, David and the quarantine officer Miranda North use Hugh's corpse as bait to lure Calvin away from Sho and trap it in another module to deprive it of oxygen. Having received a distress call prior to the damage to the ISS's communication system, Earth sends a Soyuz spacecraft to the station as a fail-safe plan to push the station into deep space. Believing the Soyuz to be on a rescue mission for the ISS crew, Sho leaves his pod and moves to board it, forcing open its hatch; Calvin then attacks him and the Soyuz crew, causing the craft's docking mechanism to fail and resulting in the capsule crashing into the ISS, killing Sho and the Soyuz crew and causing the ISS to once again enter a decaying orbit.\r\n",
      "The only two remaining survivors, David and Miranda, aware that Calvin could survive re-entry, plan for David to lure Calvin into one of the two remaining escape pods attached to the ISS for David to manually pilot the pod into deep space, isolating Calvin and allowing Miranda to return to Earth in the second pod. David manages to lure Calvin into his pod while Miranda enters her pod; as they simultaneously undock their pods from the ISS, one of the pods hits debris and is damaged, veering off course. In David's pod, Calvin attacks him as he struggles to manually pilot the pod; in Miranda's pod, she records a black box message in case of her death during re-entry informing the world of her colleagues' deaths and not to trust Calvin nor any extraterrestrial life from Mars as well as to destroy Calvin at any cost should he make his way to Earth.\r\n",
      "The two pods separate, one earthbound, the other spiraling away from Earth. The earthbound pod lands in the ocean; two nearby Vietnamese fishermen approach it. As they look into the pod, it is revealed to be David's, the astronaut now encased in a web-like substance. Meanwhile, Miranda's pod's navigation system fails due to damage sustained from the debris, sending her flying away from Earth out of control, much to her horror. On Earth, despite David attempting to warn the fishermen, the fishermen open the pod's hatch. Meanwhile, more boats arrive.\n",
      "Found 2 closest match: \n",
      "Distance of : 0.15554269924507425\n",
      "Waking inside a laboratory on an airship, a man recalls bullies from his childhood. A scientist, Estelle (Haley Bennett), greets him and says his name is Henry, she is his wife, and that he has been revived from an accident that left him amnesiac and mute. After she replaces a missing arm and leg with cybernetic prostheses, mercenaries led by the psychokinetic Akan (Danila Kozlovsky) raid the ship, claiming all of Estelle's research is Akan's corporate property. He kills Estelle's scientists before attempting to murder Henry, but Henry and Estelle flee in an escape pod, landing in Moscow. Estelle is abducted by the mercenaries, who try to kill Henry.\r\n",
      "Henry is rescued by a mysterious man, Jimmy (Sharlto Copley), who informs him that his cybernetic implants are running out of power, which will kill him if he can't recharge. Jimmy is killed by corrupt cops bought out by Akan, and Henry is forced to fight his way through both cops and mercenaries, sneaking onto a bus. He is joined by Jimmy — not dead, now an alcoholic, odorous bum — who informs him that one of Akan's associates, Slick Dimitry, has a cybernetic charging pump implanted, which Henry needs to recharge. The two are attacked by a flamethrower-wielding goon. Jimmy is incinerated, but Henry escapes, locating and chasing Dimitry throughout Moscow before capturing him; just as Dimitry promises him information, he is killed by a sniper. Henry removes the pump and receives a call from Jimmy, who directs Henry to a brothel.\r\n",
      "Henry meets two more versions of Jimmy — a cocaine-addicted lothario and a shy, awkward geek — who replace his pump. The brothel is attacked by Akan's forces. Henry fights his way through, but encounters Akan, who taunts him with Estelle's kidnapping, revealing she is being transported by an armored convoy. Akan hurls Henry out of the brothel.\r\n",
      "Outside, Henry encounters another Jimmy — now a marijuana-obsessed hippie-biker — who transports him to Akan's convoy. Henry finds Estelle - and Akan, who (seemingly) kills him and buries him in the woods.\r\n",
      "Jimmy finds and resuscitates Henry, only to be shelled by a tank. After killing the tank crew, fending off a helicopter, and failing to ride a runaway horse, Henry finds another Jimmy — a gruff sniper in a ghillie suit — who leads him to an abandoned hotel, where Jimmy is headquartered in a hidden laboratory. Jimmy and Henry encounter a number of policemen surrounding a girl. They are in the process of forcing her to perform oral sex on one of the cops. Henry kills them all. Here, the real Jimmy — a quadriplegic scientist — reveals his motive for helping Henry: revenge against Akan, who crippled him after his own cyborg super-soldiers failed. He reveals the other Jimmys are dormant clones that he can control, through which he lives a vice-filled life. The clones attack Henry after Jimmy realizes that Henry has been unknowingly broadcasting his location to Akan, with a strike force closing in. Fending off Jimmy, Henry convinces him to help. Henry and the clones of Jimmy — ranging from a punk rocker to a posh WWII Colonel — fight their way out, killing the force by collapsing the laboratory on them.\r\n",
      "Jimmy and Henry drive to Akan's headquarters. They fight their way into an elevator, but Jimmy is mortally wounded. Before dying, Jimmy thanks Henry for being the closest thing to a friend he had, and removes a memory blocker, gradually restoring Henry's memories. Henry fights his way to the highest floor, where he is greeted by Akan, revealing an army of cyborg super-soldiers being fed Henry's memories. One such soldier fights Henry, followed by the rest of the army, chasing Henry to the roof.\r\n",
      "Henry wipes out the entire army. Akan arrives and severely wounds Henry. Shortly after, Estelle arrives as well. In reality, Estelle was Akan's wife, forming an elaborate ruse to field-test Henry and use his memories to manipulate cyborg soldiers into doing anything to \"rescue\" their \"wife\" — specifically, terrorist attacks and world domination as Akan's loyal slaves. The two leave Henry for dead, leaving in a helicopter. Henry blacks out, but is energized by an emerging memory of his father (Tim Roth) encouraging him to fight back against the childhood bullies seen in the intro. Henry manages to reach Akan, decapitating him with his cybernetic eyestalk. He jumps onto Estelle's helicopter, presenting her Akan's head. Estelle shoots him, but the bullet ricochets off his cybernetic hand and wounds her, leaving her hanging from the helicopter. Estelle pleads with Henry to save her, but Henry slams the door, sending her falling to her death.\r\n",
      "Mid-credits, an answering machine message from Jimmy is heard, telling Henry there is \"one more thing\" to do.\n",
      "Found 3 closest match: \n",
      "Distance of : 0.1580623094579473\n",
      "In 2077, sixty years after a war with extraterrestrials that devastated Earth, humanity has relocated to Saturn's moon Titan via a giant space station called the Tet. Gigantic offshore fusion energy generators drain Earth's oceans to power the colonies on Titan.\r\n",
      "Led by mission controller Sally and guided by his housemate and communications partner Victoria \"Vika\" Olsen, \"Tech-49\" Jack Harper regularly leaves his tower post to repair downed combat drones that guard the regions and generators against the alien scavengers. Although his memory has been wiped, he has had recurring dreams and visions of being on the observation deck of the Empire State Building with a dark-haired woman. He also collects the occasional artifact that he finds from humanity's past. Vika is concerned about Jack's curiosity, questioning whether they are still “an effective team,” and encouraging him to do his job, so they can join the others on Titan soon.\r\n",
      "After scavengers destroy a generator, Jack discovers that they have been using the Empire State Building's antenna to transmit coordinates to outer space. While taking a break at his secret lake house retreat, he watches a crash-landing module of a pre-war spacecraft called the Odyssey. Thinking that the ship contains aliens, he investigates, only to find humans in stasis chambers. One of the humans is the woman from his dreams. Jack protects her chamber from a drone that destroys the others, and later, revives the woman, Julia Rusakova, who makes Vika instinctively jealous. Jack and Julia return to recover her flight recorder, but are captured by the scavengers. They are taken to their headquarters at the Raven Rock Mountain Complex, and the scavengers are revealed to be human survivors.\r\n",
      "Their leader, Malcolm Beech, wants Jack to reprogram their captured drone to carry nuclear fuel cells to blow up the Tet; he has sensed Jack is different because of the latter's hobby of collecting relics. Although Jack refuses, Beech releases them to seek the truth beyond the boundaries of the forbidden radiation zone. When they reach the Empire State Building, Julia reveals that she is his wife. Jack then remembers that he proposed to her there. Julia recalls that she was on a mission to Titan when they were diverted to investigate an alien presence.\r\n",
      "When the two return to Jack's tower, Vika refuses them entry, and reports her findings to Sally, saying they are \"no longer an effective team.\" Sally acknowledges this, but activates a drone that kills Vika before Julia shoots it down. Jack and Julia escape in his ship, but are shot down by other pursuing drones. The two eject into the radiation zone, which turns out not to be radioactive. Jack discovers another ship with a technician trying to repair a downed drone, and is shocked to see that the tech is a clone of himself who goes by \"Tech-52\". The clone also is shocked to see Julia. Jack battles and incapacitates his clone, but Julia is accidentally shot. After flying to Tech-52's tower, and discovering an inquisitive Vika clone, he returns to treat Julia then take her to the lake house.\r\n",
      "At the scavenger base, Beech reveals to Jack and Julia that the Tet was an alien artificial intelligence that destroyed the Moon, causing massive devastation to the planet, and invaded Earth with thousands of Jack clones and drones to wipe out the human race, extracting all of the planet's natural resources before moving on. As Jack repairs the captured drone, the base is attacked by other drones, gravely injuring Beech, and ruining the captured drone except for its fuel cells. Jack agrees to deliver Julia to Sally through the stasis chamber. On the way to the Tet, Jack listens to the Odyssey's flight recorder, and learns that he was the mission commander, Vika was his co-pilot, and Sally was their mission controller from Earth. When the Tet started to draw in their ship, Jack jettisoned the pod of stasis chambers containing the crew members (including Julia) leaving himself and Vika to be captured.\r\n",
      "Back in the present, Jack enters a large room full of capsules of Jack and Vika clones. He shows Tet the stasis chamber, but it carries Beech and the fuel cells, which they then detonate, killing themselves and destroying the Tet. On Earth, Julia awakens at the lake house. Three years later, she and her daughter meet the resistance members and \"Tech-52\" Jack, who has also recovered his memories.\n"
     ]
    }
   ],
   "source": [
    "recommendations(movie_plots,2)"
   ]
  },
  {
   "cell_type": "code",
   "execution_count": null,
   "id": "93ba8473",
   "metadata": {},
   "outputs": [],
   "source": []
  },
  {
   "cell_type": "code",
   "execution_count": null,
   "id": "074fc1a9",
   "metadata": {},
   "outputs": [],
   "source": []
  },
  {
   "cell_type": "code",
   "execution_count": null,
   "id": "6c450464",
   "metadata": {},
   "outputs": [],
   "source": []
  },
  {
   "cell_type": "code",
   "execution_count": null,
   "id": "24b91b8b",
   "metadata": {},
   "outputs": [],
   "source": []
  },
  {
   "cell_type": "code",
   "execution_count": null,
   "id": "954dc824",
   "metadata": {},
   "outputs": [],
   "source": []
  },
  {
   "cell_type": "code",
   "execution_count": null,
   "id": "066c6d16",
   "metadata": {},
   "outputs": [],
   "source": []
  },
  {
   "cell_type": "code",
   "execution_count": null,
   "id": "c8dd8e32",
   "metadata": {},
   "outputs": [],
   "source": []
  },
  {
   "cell_type": "code",
   "execution_count": null,
   "id": "20449cc7",
   "metadata": {},
   "outputs": [],
   "source": []
  },
  {
   "cell_type": "code",
   "execution_count": null,
   "id": "67fbcfd9",
   "metadata": {},
   "outputs": [],
   "source": []
  }
 ],
 "metadata": {
  "kernelspec": {
   "display_name": "Python 3 (ipykernel)",
   "language": "python",
   "name": "python3"
  },
  "language_info": {
   "codemirror_mode": {
    "name": "ipython",
    "version": 3
   },
   "file_extension": ".py",
   "mimetype": "text/x-python",
   "name": "python",
   "nbconvert_exporter": "python",
   "pygments_lexer": "ipython3",
   "version": "3.11.3"
  }
 },
 "nbformat": 4,
 "nbformat_minor": 5
}
