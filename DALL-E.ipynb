{
 "cells": [
  {
   "cell_type": "code",
   "execution_count": 19,
   "id": "87743ee5",
   "metadata": {},
   "outputs": [],
   "source": [
    "import openai\n",
    "import os\n",
    "import requests\n",
    "from dotenv import dotenv_values\n",
    "config = dotenv_values(\".env\")\n",
    "openai.api_key = config[\"AIKEY\"]"
   ]
  },
  {
   "cell_type": "code",
   "execution_count": 37,
   "id": "79dc7765",
   "metadata": {},
   "outputs": [],
   "source": [
    "def get_img(prompt,name):\n",
    "    res = openai.Image.create(\n",
    "        prompt=prompt,\n",
    "        size=\"512x512\",\n",
    "        n=1\n",
    "    )\n",
    "\n",
    "    img_url = res[\"data\"][0][\"url\"]\n",
    "    save_img(img_url,name)"
   ]
  },
  {
   "cell_type": "code",
   "execution_count": 38,
   "id": "c45bcc1b",
   "metadata": {},
   "outputs": [],
   "source": [
    "def save_img(url,name):\n",
    "    dir_name = \"images\"\n",
    "    directory = os.path.join(os.curdir,dir_name)\n",
    "\n",
    "    if not os.path.isdir(directory):\n",
    "        os.mkdir(directory)\n",
    "        \n",
    "    img_filepath = os.path.join(directory,name)\n",
    "    img_content = requests.get(url).content\n",
    "    \n",
    "    with open(img_filepath,\"wb\") as image_file:\n",
    "        image_file.write(img_content)"
   ]
  },
  {
   "cell_type": "code",
   "execution_count": 36,
   "id": "644ccc06",
   "metadata": {},
   "outputs": [],
   "source": [
    "get_img(\"mercedes\",\"mercedes.png\")"
   ]
  },
  {
   "cell_type": "code",
   "execution_count": null,
   "id": "7d724068",
   "metadata": {},
   "outputs": [],
   "source": []
  }
 ],
 "metadata": {
  "kernelspec": {
   "display_name": "Python 3 (ipykernel)",
   "language": "python",
   "name": "python3"
  },
  "language_info": {
   "codemirror_mode": {
    "name": "ipython",
    "version": 3
   },
   "file_extension": ".py",
   "mimetype": "text/x-python",
   "name": "python",
   "nbconvert_exporter": "python",
   "pygments_lexer": "ipython3",
   "version": "3.11.3"
  }
 },
 "nbformat": 4,
 "nbformat_minor": 5
}
