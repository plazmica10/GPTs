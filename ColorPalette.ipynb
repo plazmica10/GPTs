{
 "cells": [
  {
   "cell_type": "code",
   "execution_count": 1,
   "id": "5ce45fec",
   "metadata": {},
   "outputs": [],
   "source": [
    "import openai"
   ]
  },
  {
   "cell_type": "code",
   "execution_count": 2,
   "id": "1634b843",
   "metadata": {},
   "outputs": [],
   "source": [
    "import json"
   ]
  },
  {
   "cell_type": "code",
   "execution_count": 4,
   "id": "6a697f1f",
   "metadata": {},
   "outputs": [],
   "source": [
    "from dotenv import dotenv_values"
   ]
  },
  {
   "cell_type": "code",
   "execution_count": 5,
   "id": "e377a2de",
   "metadata": {},
   "outputs": [],
   "source": [
    "config = dotenv_values(\".env\")"
   ]
  },
  {
   "cell_type": "code",
   "execution_count": 6,
   "id": "b16f885c",
   "metadata": {},
   "outputs": [],
   "source": [
    "openai.api_key = config[\"AIKEY\"]"
   ]
  },
  {
   "cell_type": "code",
   "execution_count": 20,
   "id": "ac3f9f1f",
   "metadata": {},
   "outputs": [],
   "source": [
    "from IPython.display import Markdown,display\n",
    "\n",
    "def display_colors(colors):\n",
    "    display(Markdown(\" \".join(\n",
    "        f\"<span style='color: {color}'>{chr(9608)*4}</span>\"\n",
    "        for color in colors\n",
    "    )\n",
    "                    \n",
    "    ))"
   ]
  },
  {
   "cell_type": "code",
   "execution_count": 18,
   "id": "376152cd",
   "metadata": {},
   "outputs": [],
   "source": [
    "def get_and_display(msg):    \n",
    "    prompt = f\"\"\"\n",
    "    You are a color palette generating assistant that rsponds to text prompts for color palletes.\n",
    "    Your should generate color palettes that fit the theme, mood, or instructions in the prompt.\n",
    "    The palettes should be between 2 and 8 colors.\n",
    "\n",
    "    Q: Convert the following verbal description of a color palette into a list of colors: The Mediterranean Sea\n",
    "    A: [\"#006699\", \"#66CCCC\", \"#F0E68C\", \"#008000\", \"#F08080\"]\n",
    "\n",
    "    Q: Convert the following verbal description of a color palette into a list of colors: sage, nature, earth\n",
    "    A: [\"#EDF1D6\", \"#9DC08B\", \"#609966\", \"#40513B\"]\n",
    "\n",
    "    Deisred format: a JSON array of hexadecimal color codes\n",
    "    \n",
    "    Q: Convert the following verbal description of a color palette into a list of colors: {msg}\n",
    "    A:\n",
    "\n",
    "    Result:\n",
    "\n",
    "    \"\"\"\n",
    "\n",
    "    response = openai.Completion.create(\n",
    "        prompt = prompt,\n",
    "        model = \"text-davinci-003\",\n",
    "        max_tokens = 200\n",
    "    )\n",
    "\n",
    "    colors = json.loads(response[\"choices\"][0][\"message\"][\"text\"])\n",
    "    display_colors(colors)"
   ]
  },
  {
   "cell_type": "code",
   "execution_count": 19,
   "id": "07e17f7e",
   "metadata": {},
   "outputs": [
    {
     "data": {
      "text/markdown": [
       "<span style='color: #004D99'>████</span> <span style='color: #2D7AF2'>████</span> <span style='color: #7FB3D5'>████</span> <span style='color: #76D7C4'>████</span> <span style='color: #297A2B'>████</span> <span style='color: #75B2DD'>████</span>"
      ],
      "text/plain": [
       "<IPython.core.display.Markdown object>"
      ]
     },
     "metadata": {},
     "output_type": "display_data"
    }
   ],
   "source": [
    "get_and_display(\"ocean tones\")"
   ]
  },
  {
   "cell_type": "code",
   "execution_count": 21,
   "id": "9321b8e8",
   "metadata": {},
   "outputs": [],
   "source": [
    "def get_and_display(msg):\n",
    "    messages = [\n",
    "        {\"role\": \"system\", \"content\": \"You are a color palette generating assistant that responds to text prompts for color palettes You should generate color palettes that fit the theme, mood, or instructions in the prompt. The palettes should be between 2 and 8 colors.\"},\n",
    "        {\"role\": \"user\", \"content\": \"Convert the following verbal description of a color palette into a list of colors: The Mediterranean Sea\"},\n",
    "        {\"role\": \"system\", \"content\": '[\"#006699\", \"#66CCCC\", \"#F0E68C\", \"#008000\", \"#F08080\"]'},\n",
    "        {\"role\": \"user\", \"content\": \"Convert the following verbal description of a color palette into a list of colors: sage, nature, earth\"},\n",
    "        {\"role\": \"system\", \"content\": '[\"#EDF1D6\", \"#9DC08B\", \"#609966\", \"#40513B\"]'},\n",
    "        {\"role\": \"user\", \"content\": f\"Convert the following verbal description of a color palette into a list of colors: {msg}\"},\n",
    "    ]\n",
    "\n",
    "    response = openai.ChatCompletion.create(\n",
    "        model=\"gpt-3.5-turbo\",\n",
    "        messages=messages,\n",
    "        max_tokens=200,\n",
    "    )\n",
    "    \n",
    "    colors = json.loads(response[\"choices\"][0][\"message\"][\"content\"])\n",
    "    display_colors(colors)"
   ]
  },
  {
   "cell_type": "code",
   "execution_count": 22,
   "id": "098cbe63",
   "metadata": {
    "scrolled": true
   },
   "outputs": [
    {
     "data": {
      "text/markdown": [
       "<span style='color: #4285F4'>████</span> <span style='color: #EA4335'>████</span> <span style='color: #FBBC05'>████</span> <span style='color: #34A853'>████</span>"
      ],
      "text/plain": [
       "<IPython.core.display.Markdown object>"
      ]
     },
     "metadata": {},
     "output_type": "display_data"
    }
   ],
   "source": [
    "get_and_display(\"google\")"
   ]
  },
  {
   "cell_type": "code",
   "execution_count": null,
   "id": "164279ab",
   "metadata": {},
   "outputs": [],
   "source": []
  }
 ],
 "metadata": {
  "kernelspec": {
   "display_name": "Python 3 (ipykernel)",
   "language": "python",
   "name": "python3"
  },
  "language_info": {
   "codemirror_mode": {
    "name": "ipython",
    "version": 3
   },
   "file_extension": ".py",
   "mimetype": "text/x-python",
   "name": "python",
   "nbconvert_exporter": "python",
   "pygments_lexer": "ipython3",
   "version": "3.11.3"
  }
 },
 "nbformat": 4,
 "nbformat_minor": 5
}
